{
 "cells": [
  {
   "cell_type": "code",
   "execution_count": 91,
   "id": "46da78f7",
   "metadata": {},
   "outputs": [],
   "source": [
    "#Part A: Data Preprocessing Tasks"
   ]
  },
  {
   "cell_type": "code",
   "execution_count": 92,
   "id": "ce7239aa",
   "metadata": {},
   "outputs": [
    {
     "data": {
      "text/html": [
       "<div>\n",
       "<style scoped>\n",
       "    .dataframe tbody tr th:only-of-type {\n",
       "        vertical-align: middle;\n",
       "    }\n",
       "\n",
       "    .dataframe tbody tr th {\n",
       "        vertical-align: top;\n",
       "    }\n",
       "\n",
       "    .dataframe thead th {\n",
       "        text-align: right;\n",
       "    }\n",
       "</style>\n",
       "<table border=\"1\" class=\"dataframe\">\n",
       "  <thead>\n",
       "    <tr style=\"text-align: right;\">\n",
       "      <th></th>\n",
       "      <th>TransactionID</th>\n",
       "      <th>CustomerID</th>\n",
       "      <th>Gender</th>\n",
       "      <th>Age</th>\n",
       "      <th>City</th>\n",
       "      <th>ProductCategory</th>\n",
       "      <th>Quantity</th>\n",
       "      <th>Price</th>\n",
       "      <th>PurchaseDate</th>\n",
       "      <th>PaymentMode</th>\n",
       "      <th>TotalAmount</th>\n",
       "    </tr>\n",
       "  </thead>\n",
       "  <tbody>\n",
       "    <tr>\n",
       "      <th>0</th>\n",
       "      <td>T00001</td>\n",
       "      <td>C2824</td>\n",
       "      <td>Female</td>\n",
       "      <td>33</td>\n",
       "      <td>Bengaluru</td>\n",
       "      <td>Fashion</td>\n",
       "      <td>3</td>\n",
       "      <td>4479</td>\n",
       "      <td>2023-03-15</td>\n",
       "      <td>Cash</td>\n",
       "      <td>13437</td>\n",
       "    </tr>\n",
       "    <tr>\n",
       "      <th>1</th>\n",
       "      <td>T00002</td>\n",
       "      <td>C1409</td>\n",
       "      <td>Other</td>\n",
       "      <td>20</td>\n",
       "      <td>Pune</td>\n",
       "      <td>Books</td>\n",
       "      <td>5</td>\n",
       "      <td>1051</td>\n",
       "      <td>2023-01-22</td>\n",
       "      <td>Card</td>\n",
       "      <td>5255</td>\n",
       "    </tr>\n",
       "    <tr>\n",
       "      <th>2</th>\n",
       "      <td>T00003</td>\n",
       "      <td>C5506</td>\n",
       "      <td>Other</td>\n",
       "      <td>47</td>\n",
       "      <td>Pune</td>\n",
       "      <td>Furniture</td>\n",
       "      <td>1</td>\n",
       "      <td>111</td>\n",
       "      <td>2023-04-18</td>\n",
       "      <td>Wallet</td>\n",
       "      <td>111</td>\n",
       "    </tr>\n",
       "    <tr>\n",
       "      <th>3</th>\n",
       "      <td>T00004</td>\n",
       "      <td>C5012</td>\n",
       "      <td>Other</td>\n",
       "      <td>21</td>\n",
       "      <td>Hyderabad</td>\n",
       "      <td>Groceries</td>\n",
       "      <td>5</td>\n",
       "      <td>2946</td>\n",
       "      <td>2023-08-09</td>\n",
       "      <td>Cash</td>\n",
       "      <td>14730</td>\n",
       "    </tr>\n",
       "    <tr>\n",
       "      <th>4</th>\n",
       "      <td>T00005</td>\n",
       "      <td>C4657</td>\n",
       "      <td>Female</td>\n",
       "      <td>41</td>\n",
       "      <td>Chennai</td>\n",
       "      <td>Sports</td>\n",
       "      <td>1</td>\n",
       "      <td>3123</td>\n",
       "      <td>2023-09-23</td>\n",
       "      <td>Wallet</td>\n",
       "      <td>3123</td>\n",
       "    </tr>\n",
       "    <tr>\n",
       "      <th>...</th>\n",
       "      <td>...</td>\n",
       "      <td>...</td>\n",
       "      <td>...</td>\n",
       "      <td>...</td>\n",
       "      <td>...</td>\n",
       "      <td>...</td>\n",
       "      <td>...</td>\n",
       "      <td>...</td>\n",
       "      <td>...</td>\n",
       "      <td>...</td>\n",
       "      <td>...</td>\n",
       "    </tr>\n",
       "    <tr>\n",
       "      <th>1995</th>\n",
       "      <td>T01996</td>\n",
       "      <td>C1151</td>\n",
       "      <td>Male</td>\n",
       "      <td>44</td>\n",
       "      <td>Jaipur</td>\n",
       "      <td>Fashion</td>\n",
       "      <td>2</td>\n",
       "      <td>2436</td>\n",
       "      <td>2023-01-15</td>\n",
       "      <td>Wallet</td>\n",
       "      <td>4872</td>\n",
       "    </tr>\n",
       "    <tr>\n",
       "      <th>1996</th>\n",
       "      <td>T01997</td>\n",
       "      <td>C5888</td>\n",
       "      <td>Male</td>\n",
       "      <td>53</td>\n",
       "      <td>Ahmedabad</td>\n",
       "      <td>Beauty</td>\n",
       "      <td>3</td>\n",
       "      <td>2744</td>\n",
       "      <td>2023-01-14</td>\n",
       "      <td>Wallet</td>\n",
       "      <td>8232</td>\n",
       "    </tr>\n",
       "    <tr>\n",
       "      <th>1997</th>\n",
       "      <td>T01998</td>\n",
       "      <td>C2758</td>\n",
       "      <td>Male</td>\n",
       "      <td>45</td>\n",
       "      <td>Lucknow</td>\n",
       "      <td>Electronics</td>\n",
       "      <td>1</td>\n",
       "      <td>3246</td>\n",
       "      <td>2023-06-19</td>\n",
       "      <td>Wallet</td>\n",
       "      <td>3246</td>\n",
       "    </tr>\n",
       "    <tr>\n",
       "      <th>1998</th>\n",
       "      <td>T01999</td>\n",
       "      <td>C6489</td>\n",
       "      <td>Male</td>\n",
       "      <td>43</td>\n",
       "      <td>Bengaluru</td>\n",
       "      <td>Sports</td>\n",
       "      <td>2</td>\n",
       "      <td>2709</td>\n",
       "      <td>2023-01-15</td>\n",
       "      <td>Wallet</td>\n",
       "      <td>5418</td>\n",
       "    </tr>\n",
       "    <tr>\n",
       "      <th>1999</th>\n",
       "      <td>T02000</td>\n",
       "      <td>C5662</td>\n",
       "      <td>Male</td>\n",
       "      <td>33</td>\n",
       "      <td>Hyderabad</td>\n",
       "      <td>Beauty</td>\n",
       "      <td>2</td>\n",
       "      <td>1561</td>\n",
       "      <td>2023-08-29</td>\n",
       "      <td>UPI</td>\n",
       "      <td>3122</td>\n",
       "    </tr>\n",
       "  </tbody>\n",
       "</table>\n",
       "<p>2000 rows × 11 columns</p>\n",
       "</div>"
      ],
      "text/plain": [
       "     TransactionID CustomerID  Gender  Age       City ProductCategory  \\\n",
       "0           T00001      C2824  Female   33  Bengaluru         Fashion   \n",
       "1           T00002      C1409   Other   20       Pune           Books   \n",
       "2           T00003      C5506   Other   47       Pune       Furniture   \n",
       "3           T00004      C5012   Other   21  Hyderabad       Groceries   \n",
       "4           T00005      C4657  Female   41    Chennai          Sports   \n",
       "...            ...        ...     ...  ...        ...             ...   \n",
       "1995        T01996      C1151    Male   44     Jaipur         Fashion   \n",
       "1996        T01997      C5888    Male   53  Ahmedabad          Beauty   \n",
       "1997        T01998      C2758    Male   45    Lucknow     Electronics   \n",
       "1998        T01999      C6489    Male   43  Bengaluru          Sports   \n",
       "1999        T02000      C5662    Male   33  Hyderabad          Beauty   \n",
       "\n",
       "      Quantity  Price PurchaseDate PaymentMode  TotalAmount  \n",
       "0            3   4479   2023-03-15        Cash        13437  \n",
       "1            5   1051   2023-01-22        Card         5255  \n",
       "2            1    111   2023-04-18      Wallet          111  \n",
       "3            5   2946   2023-08-09        Cash        14730  \n",
       "4            1   3123   2023-09-23      Wallet         3123  \n",
       "...        ...    ...          ...         ...          ...  \n",
       "1995         2   2436   2023-01-15      Wallet         4872  \n",
       "1996         3   2744   2023-01-14      Wallet         8232  \n",
       "1997         1   3246   2023-06-19      Wallet         3246  \n",
       "1998         2   2709   2023-01-15      Wallet         5418  \n",
       "1999         2   1561   2023-08-29         UPI         3122  \n",
       "\n",
       "[2000 rows x 11 columns]"
      ]
     },
     "execution_count": 92,
     "metadata": {},
     "output_type": "execute_result"
    }
   ],
   "source": [
    "import pandas as pd \n",
    "df=pd.read_csv(\"E:/PYTHON/ML PROJECT 3/Retail_Transactions_2000.csv\")\n",
    "df\n"
   ]
  },
  {
   "cell_type": "markdown",
   "id": "7b927d57",
   "metadata": {},
   "source": [
    " Data Inspection"
   ]
  },
  {
   "cell_type": "code",
   "execution_count": 93,
   "id": "58696bf9",
   "metadata": {},
   "outputs": [
    {
     "data": {
      "text/plain": [
       "(2000, 11)"
      ]
     },
     "execution_count": 93,
     "metadata": {},
     "output_type": "execute_result"
    }
   ],
   "source": [
    "df.shape"
   ]
  },
  {
   "cell_type": "code",
   "execution_count": 94,
   "id": "4ce3c270",
   "metadata": {},
   "outputs": [
    {
     "data": {
      "text/plain": [
       "['TransactionID',\n",
       " 'CustomerID',\n",
       " 'Gender',\n",
       " 'Age',\n",
       " 'City',\n",
       " 'ProductCategory',\n",
       " 'Quantity',\n",
       " 'Price',\n",
       " 'PurchaseDate',\n",
       " 'PaymentMode',\n",
       " 'TotalAmount']"
      ]
     },
     "execution_count": 94,
     "metadata": {},
     "output_type": "execute_result"
    }
   ],
   "source": [
    "df.columns.tolist()"
   ]
  },
  {
   "cell_type": "code",
   "execution_count": 95,
   "id": "614f6f14",
   "metadata": {},
   "outputs": [
    {
     "name": "stdout",
     "output_type": "stream",
     "text": [
      "<class 'pandas.core.frame.DataFrame'>\n",
      "RangeIndex: 2000 entries, 0 to 1999\n",
      "Data columns (total 11 columns):\n",
      " #   Column           Non-Null Count  Dtype \n",
      "---  ------           --------------  ----- \n",
      " 0   TransactionID    2000 non-null   object\n",
      " 1   CustomerID       2000 non-null   object\n",
      " 2   Gender           2000 non-null   object\n",
      " 3   Age              2000 non-null   int64 \n",
      " 4   City             2000 non-null   object\n",
      " 5   ProductCategory  2000 non-null   object\n",
      " 6   Quantity         2000 non-null   int64 \n",
      " 7   Price            2000 non-null   int64 \n",
      " 8   PurchaseDate     2000 non-null   object\n",
      " 9   PaymentMode      2000 non-null   object\n",
      " 10  TotalAmount      2000 non-null   int64 \n",
      "dtypes: int64(4), object(7)\n",
      "memory usage: 172.0+ KB\n"
     ]
    }
   ],
   "source": [
    "df.info()"
   ]
  },
  {
   "cell_type": "code",
   "execution_count": 96,
   "id": "04c5e68e",
   "metadata": {},
   "outputs": [
    {
     "data": {
      "text/html": [
       "<div>\n",
       "<style scoped>\n",
       "    .dataframe tbody tr th:only-of-type {\n",
       "        vertical-align: middle;\n",
       "    }\n",
       "\n",
       "    .dataframe tbody tr th {\n",
       "        vertical-align: top;\n",
       "    }\n",
       "\n",
       "    .dataframe thead th {\n",
       "        text-align: right;\n",
       "    }\n",
       "</style>\n",
       "<table border=\"1\" class=\"dataframe\">\n",
       "  <thead>\n",
       "    <tr style=\"text-align: right;\">\n",
       "      <th></th>\n",
       "      <th>Age</th>\n",
       "      <th>Quantity</th>\n",
       "      <th>Price</th>\n",
       "      <th>TotalAmount</th>\n",
       "    </tr>\n",
       "  </thead>\n",
       "  <tbody>\n",
       "    <tr>\n",
       "      <th>count</th>\n",
       "      <td>2000.000000</td>\n",
       "      <td>2000.000000</td>\n",
       "      <td>2000.00000</td>\n",
       "      <td>2000.000000</td>\n",
       "    </tr>\n",
       "    <tr>\n",
       "      <th>mean</th>\n",
       "      <td>44.679000</td>\n",
       "      <td>2.957000</td>\n",
       "      <td>2496.61000</td>\n",
       "      <td>7307.414500</td>\n",
       "    </tr>\n",
       "    <tr>\n",
       "      <th>std</th>\n",
       "      <td>15.179795</td>\n",
       "      <td>1.412143</td>\n",
       "      <td>1413.95187</td>\n",
       "      <td>5705.065758</td>\n",
       "    </tr>\n",
       "    <tr>\n",
       "      <th>min</th>\n",
       "      <td>18.000000</td>\n",
       "      <td>1.000000</td>\n",
       "      <td>100.00000</td>\n",
       "      <td>111.000000</td>\n",
       "    </tr>\n",
       "    <tr>\n",
       "      <th>25%</th>\n",
       "      <td>32.000000</td>\n",
       "      <td>2.000000</td>\n",
       "      <td>1239.00000</td>\n",
       "      <td>2756.250000</td>\n",
       "    </tr>\n",
       "    <tr>\n",
       "      <th>50%</th>\n",
       "      <td>45.000000</td>\n",
       "      <td>3.000000</td>\n",
       "      <td>2481.50000</td>\n",
       "      <td>5562.500000</td>\n",
       "    </tr>\n",
       "    <tr>\n",
       "      <th>75%</th>\n",
       "      <td>58.000000</td>\n",
       "      <td>4.000000</td>\n",
       "      <td>3695.50000</td>\n",
       "      <td>10751.250000</td>\n",
       "    </tr>\n",
       "    <tr>\n",
       "      <th>max</th>\n",
       "      <td>70.000000</td>\n",
       "      <td>5.000000</td>\n",
       "      <td>5000.00000</td>\n",
       "      <td>24950.000000</td>\n",
       "    </tr>\n",
       "  </tbody>\n",
       "</table>\n",
       "</div>"
      ],
      "text/plain": [
       "               Age     Quantity       Price   TotalAmount\n",
       "count  2000.000000  2000.000000  2000.00000   2000.000000\n",
       "mean     44.679000     2.957000  2496.61000   7307.414500\n",
       "std      15.179795     1.412143  1413.95187   5705.065758\n",
       "min      18.000000     1.000000   100.00000    111.000000\n",
       "25%      32.000000     2.000000  1239.00000   2756.250000\n",
       "50%      45.000000     3.000000  2481.50000   5562.500000\n",
       "75%      58.000000     4.000000  3695.50000  10751.250000\n",
       "max      70.000000     5.000000  5000.00000  24950.000000"
      ]
     },
     "execution_count": 96,
     "metadata": {},
     "output_type": "execute_result"
    }
   ],
   "source": [
    "df.describe()"
   ]
  },
  {
   "cell_type": "code",
   "execution_count": 97,
   "id": "3e542b0e",
   "metadata": {},
   "outputs": [
    {
     "data": {
      "text/plain": [
       "TransactionID      0\n",
       "CustomerID         0\n",
       "Gender             0\n",
       "Age                0\n",
       "City               0\n",
       "ProductCategory    0\n",
       "Quantity           0\n",
       "Price              0\n",
       "PurchaseDate       0\n",
       "PaymentMode        0\n",
       "TotalAmount        0\n",
       "dtype: int64"
      ]
     },
     "execution_count": 97,
     "metadata": {},
     "output_type": "execute_result"
    }
   ],
   "source": [
    "df.isnull().sum()"
   ]
  },
  {
   "cell_type": "code",
   "execution_count": 98,
   "id": "d44b187b",
   "metadata": {},
   "outputs": [
    {
     "data": {
      "text/plain": [
       "np.int64(0)"
      ]
     },
     "execution_count": 98,
     "metadata": {},
     "output_type": "execute_result"
    }
   ],
   "source": [
    "df.duplicated().sum()"
   ]
  },
  {
   "cell_type": "code",
   "execution_count": 99,
   "id": "956d6f7b",
   "metadata": {},
   "outputs": [
    {
     "data": {
      "text/plain": [
       "(2000, 11)"
      ]
     },
     "execution_count": 99,
     "metadata": {},
     "output_type": "execute_result"
    }
   ],
   "source": [
    "df.shape"
   ]
  },
  {
   "cell_type": "markdown",
   "id": "219c5f73",
   "metadata": {},
   "source": [
    "Data Cleaning"
   ]
  },
  {
   "cell_type": "code",
   "execution_count": null,
   "id": "56ad8867",
   "metadata": {},
   "outputs": [
    {
     "data": {
      "text/plain": [
       "0       Female\n",
       "1        other\n",
       "2        other\n",
       "3        other\n",
       "4       Female\n",
       "         ...  \n",
       "1995      Male\n",
       "1996      Male\n",
       "1997      Male\n",
       "1998      Male\n",
       "1999      Male\n",
       "Name: Gender, Length: 2000, dtype: object"
      ]
     },
     "execution_count": 100,
     "metadata": {},
     "output_type": "execute_result"
    }
   ],
   "source": [
    "# Standardize categorical values (e.g., 'm', 'Male', 'MALE' → 'Male').\n",
    "df[\"Gender\"] = df[\"Gender\"].str.strip().str.lower()   \n",
    "df[\"Gender\"] = df[\"Gender\"].replace({\n",
    "    \"m\": \"Male\", \"male\": \"Male\", \"MALE\": \"Male\",\n",
    "    \"f\": \"Female\", \"female\": \"Female\", \"FEMALE\": \"Female\"\n",
    "})\n",
    "df[\"Gender\"]"
   ]
  },
  {
   "cell_type": "code",
   "execution_count": 101,
   "id": "b1b901dd",
   "metadata": {},
   "outputs": [
    {
     "data": {
      "text/plain": [
       "0       Bengaluru\n",
       "1            Pune\n",
       "2            Pune\n",
       "3       Hyderabad\n",
       "4         Chennai\n",
       "          ...    \n",
       "1995       Jaipur\n",
       "1996    Ahmedabad\n",
       "1997      Lucknow\n",
       "1998    Bengaluru\n",
       "1999    Hyderabad\n",
       "Name: City, Length: 2000, dtype: object"
      ]
     },
     "execution_count": 101,
     "metadata": {},
     "output_type": "execute_result"
    }
   ],
   "source": [
    "df[\"City\"] = df[\"City\"].str.strip().str.title()\n",
    "df[\"City\"]"
   ]
  },
  {
   "cell_type": "code",
   "execution_count": null,
   "id": "c6b2eced",
   "metadata": {},
   "outputs": [],
   "source": [
    "#Correct negative or zero values in Quantity or Price.\n",
    "df = df[df[\"Quantity\"] > 0]   \n",
    "df = df[df[\"Price\"] > 0]  "
   ]
  },
  {
   "cell_type": "markdown",
   "id": "36d3c02a",
   "metadata": {},
   "source": [
    "Feature Engineering"
   ]
  },
  {
   "cell_type": "code",
   "execution_count": null,
   "id": "889c13b1",
   "metadata": {},
   "outputs": [],
   "source": [
    "#Extract Month and DayOfWeek from PurchaseDate.\n",
    "df[\"PurchaseDate\"]=pd.to_datetime(df[\"PurchaseDate\"],errors=\"coerce\")\n",
    "df[\"Month\"]=df[\"PurchaseDate\"].dt.month_name()\n",
    "df[\"DayOfWeek\"]=df[\"PurchaseDate\"].dt.day_name()"
   ]
  },
  {
   "cell_type": "code",
   "execution_count": null,
   "id": "ec695394",
   "metadata": {},
   "outputs": [
    {
     "data": {
      "text/plain": [
       "0       26-40\n",
       "1       18-25\n",
       "2       41-60\n",
       "3       18-25\n",
       "4       41-60\n",
       "        ...  \n",
       "1995    41-60\n",
       "1996    41-60\n",
       "1997    41-60\n",
       "1998    41-60\n",
       "1999    26-40\n",
       "Name: AgeGroup, Length: 2000, dtype: category\n",
       "Categories (4, object): ['18-25' < '26-40' < '41-60' < '60+']"
      ]
     },
     "execution_count": 115,
     "metadata": {},
     "output_type": "execute_result"
    }
   ],
   "source": [
    "# Create an AgeGroup column (e.g., 18-25, 26-40, 41-60, 60+).\n",
    "\n",
    "bins=[0,25,40,60,120]\n",
    "labels=[\"18-25\", \"26-40\", \"41-60\", \"60+\"]\n",
    "df[\"AgeGroup\"]=pd.cut(df[\"Age\"],bins=bins,labels=labels,right=True,include_lowest=True)\n",
    "df[\"AgeGroup\"]"
   ]
  },
  {
   "cell_type": "markdown",
   "id": "31512c27",
   "metadata": {},
   "source": [
    "Encoding & Transformation"
   ]
  },
  {
   "cell_type": "code",
   "execution_count": null,
   "id": "45b87c54",
   "metadata": {},
   "outputs": [
    {
     "data": {
      "text/html": [
       "<div>\n",
       "<style scoped>\n",
       "    .dataframe tbody tr th:only-of-type {\n",
       "        vertical-align: middle;\n",
       "    }\n",
       "\n",
       "    .dataframe tbody tr th {\n",
       "        vertical-align: top;\n",
       "    }\n",
       "\n",
       "    .dataframe thead th {\n",
       "        text-align: right;\n",
       "    }\n",
       "</style>\n",
       "<table border=\"1\" class=\"dataframe\">\n",
       "  <thead>\n",
       "    <tr style=\"text-align: right;\">\n",
       "      <th></th>\n",
       "      <th>TransactionID</th>\n",
       "      <th>CustomerID</th>\n",
       "      <th>Age</th>\n",
       "      <th>ProductCategory</th>\n",
       "      <th>Quantity</th>\n",
       "      <th>Price</th>\n",
       "      <th>PurchaseDate</th>\n",
       "      <th>PaymentMode</th>\n",
       "      <th>TotalAmount</th>\n",
       "      <th>Month</th>\n",
       "      <th>...</th>\n",
       "      <th>City_Ahmedabad</th>\n",
       "      <th>City_Bengaluru</th>\n",
       "      <th>City_Chennai</th>\n",
       "      <th>City_Delhi</th>\n",
       "      <th>City_Hyderabad</th>\n",
       "      <th>City_Jaipur</th>\n",
       "      <th>City_Kolkata</th>\n",
       "      <th>City_Lucknow</th>\n",
       "      <th>City_Mumbai</th>\n",
       "      <th>City_Pune</th>\n",
       "    </tr>\n",
       "  </thead>\n",
       "  <tbody>\n",
       "    <tr>\n",
       "      <th>0</th>\n",
       "      <td>T00001</td>\n",
       "      <td>C2824</td>\n",
       "      <td>0.288462</td>\n",
       "      <td>Fashion</td>\n",
       "      <td>3</td>\n",
       "      <td>0.893673</td>\n",
       "      <td>2023-03-15</td>\n",
       "      <td>Cash</td>\n",
       "      <td>0.536495</td>\n",
       "      <td>March</td>\n",
       "      <td>...</td>\n",
       "      <td>False</td>\n",
       "      <td>True</td>\n",
       "      <td>False</td>\n",
       "      <td>False</td>\n",
       "      <td>False</td>\n",
       "      <td>False</td>\n",
       "      <td>False</td>\n",
       "      <td>False</td>\n",
       "      <td>False</td>\n",
       "      <td>False</td>\n",
       "    </tr>\n",
       "    <tr>\n",
       "      <th>1</th>\n",
       "      <td>T00002</td>\n",
       "      <td>C1409</td>\n",
       "      <td>0.038462</td>\n",
       "      <td>Books</td>\n",
       "      <td>5</td>\n",
       "      <td>0.194082</td>\n",
       "      <td>2023-01-22</td>\n",
       "      <td>Card</td>\n",
       "      <td>0.207094</td>\n",
       "      <td>January</td>\n",
       "      <td>...</td>\n",
       "      <td>False</td>\n",
       "      <td>False</td>\n",
       "      <td>False</td>\n",
       "      <td>False</td>\n",
       "      <td>False</td>\n",
       "      <td>False</td>\n",
       "      <td>False</td>\n",
       "      <td>False</td>\n",
       "      <td>False</td>\n",
       "      <td>True</td>\n",
       "    </tr>\n",
       "    <tr>\n",
       "      <th>2</th>\n",
       "      <td>T00003</td>\n",
       "      <td>C5506</td>\n",
       "      <td>0.557692</td>\n",
       "      <td>Furniture</td>\n",
       "      <td>1</td>\n",
       "      <td>0.002245</td>\n",
       "      <td>2023-04-18</td>\n",
       "      <td>Wallet</td>\n",
       "      <td>0.000000</td>\n",
       "      <td>April</td>\n",
       "      <td>...</td>\n",
       "      <td>False</td>\n",
       "      <td>False</td>\n",
       "      <td>False</td>\n",
       "      <td>False</td>\n",
       "      <td>False</td>\n",
       "      <td>False</td>\n",
       "      <td>False</td>\n",
       "      <td>False</td>\n",
       "      <td>False</td>\n",
       "      <td>True</td>\n",
       "    </tr>\n",
       "    <tr>\n",
       "      <th>3</th>\n",
       "      <td>T00004</td>\n",
       "      <td>C5012</td>\n",
       "      <td>0.057692</td>\n",
       "      <td>Groceries</td>\n",
       "      <td>5</td>\n",
       "      <td>0.580816</td>\n",
       "      <td>2023-08-09</td>\n",
       "      <td>Cash</td>\n",
       "      <td>0.588550</td>\n",
       "      <td>August</td>\n",
       "      <td>...</td>\n",
       "      <td>False</td>\n",
       "      <td>False</td>\n",
       "      <td>False</td>\n",
       "      <td>False</td>\n",
       "      <td>True</td>\n",
       "      <td>False</td>\n",
       "      <td>False</td>\n",
       "      <td>False</td>\n",
       "      <td>False</td>\n",
       "      <td>False</td>\n",
       "    </tr>\n",
       "    <tr>\n",
       "      <th>4</th>\n",
       "      <td>T00005</td>\n",
       "      <td>C4657</td>\n",
       "      <td>0.442308</td>\n",
       "      <td>Sports</td>\n",
       "      <td>1</td>\n",
       "      <td>0.616939</td>\n",
       "      <td>2023-09-23</td>\n",
       "      <td>Wallet</td>\n",
       "      <td>0.121261</td>\n",
       "      <td>September</td>\n",
       "      <td>...</td>\n",
       "      <td>False</td>\n",
       "      <td>False</td>\n",
       "      <td>True</td>\n",
       "      <td>False</td>\n",
       "      <td>False</td>\n",
       "      <td>False</td>\n",
       "      <td>False</td>\n",
       "      <td>False</td>\n",
       "      <td>False</td>\n",
       "      <td>False</td>\n",
       "    </tr>\n",
       "    <tr>\n",
       "      <th>...</th>\n",
       "      <td>...</td>\n",
       "      <td>...</td>\n",
       "      <td>...</td>\n",
       "      <td>...</td>\n",
       "      <td>...</td>\n",
       "      <td>...</td>\n",
       "      <td>...</td>\n",
       "      <td>...</td>\n",
       "      <td>...</td>\n",
       "      <td>...</td>\n",
       "      <td>...</td>\n",
       "      <td>...</td>\n",
       "      <td>...</td>\n",
       "      <td>...</td>\n",
       "      <td>...</td>\n",
       "      <td>...</td>\n",
       "      <td>...</td>\n",
       "      <td>...</td>\n",
       "      <td>...</td>\n",
       "      <td>...</td>\n",
       "      <td>...</td>\n",
       "    </tr>\n",
       "    <tr>\n",
       "      <th>1995</th>\n",
       "      <td>T01996</td>\n",
       "      <td>C1151</td>\n",
       "      <td>0.500000</td>\n",
       "      <td>Fashion</td>\n",
       "      <td>2</td>\n",
       "      <td>0.476735</td>\n",
       "      <td>2023-01-15</td>\n",
       "      <td>Wallet</td>\n",
       "      <td>0.191674</td>\n",
       "      <td>January</td>\n",
       "      <td>...</td>\n",
       "      <td>False</td>\n",
       "      <td>False</td>\n",
       "      <td>False</td>\n",
       "      <td>False</td>\n",
       "      <td>False</td>\n",
       "      <td>True</td>\n",
       "      <td>False</td>\n",
       "      <td>False</td>\n",
       "      <td>False</td>\n",
       "      <td>False</td>\n",
       "    </tr>\n",
       "    <tr>\n",
       "      <th>1996</th>\n",
       "      <td>T01997</td>\n",
       "      <td>C5888</td>\n",
       "      <td>0.673077</td>\n",
       "      <td>Beauty</td>\n",
       "      <td>3</td>\n",
       "      <td>0.539592</td>\n",
       "      <td>2023-01-14</td>\n",
       "      <td>Wallet</td>\n",
       "      <td>0.326946</td>\n",
       "      <td>January</td>\n",
       "      <td>...</td>\n",
       "      <td>True</td>\n",
       "      <td>False</td>\n",
       "      <td>False</td>\n",
       "      <td>False</td>\n",
       "      <td>False</td>\n",
       "      <td>False</td>\n",
       "      <td>False</td>\n",
       "      <td>False</td>\n",
       "      <td>False</td>\n",
       "      <td>False</td>\n",
       "    </tr>\n",
       "    <tr>\n",
       "      <th>1997</th>\n",
       "      <td>T01998</td>\n",
       "      <td>C2758</td>\n",
       "      <td>0.519231</td>\n",
       "      <td>Electronics</td>\n",
       "      <td>1</td>\n",
       "      <td>0.642041</td>\n",
       "      <td>2023-06-19</td>\n",
       "      <td>Wallet</td>\n",
       "      <td>0.126213</td>\n",
       "      <td>June</td>\n",
       "      <td>...</td>\n",
       "      <td>False</td>\n",
       "      <td>False</td>\n",
       "      <td>False</td>\n",
       "      <td>False</td>\n",
       "      <td>False</td>\n",
       "      <td>False</td>\n",
       "      <td>False</td>\n",
       "      <td>True</td>\n",
       "      <td>False</td>\n",
       "      <td>False</td>\n",
       "    </tr>\n",
       "    <tr>\n",
       "      <th>1998</th>\n",
       "      <td>T01999</td>\n",
       "      <td>C6489</td>\n",
       "      <td>0.480769</td>\n",
       "      <td>Sports</td>\n",
       "      <td>2</td>\n",
       "      <td>0.532449</td>\n",
       "      <td>2023-01-15</td>\n",
       "      <td>Wallet</td>\n",
       "      <td>0.213656</td>\n",
       "      <td>January</td>\n",
       "      <td>...</td>\n",
       "      <td>False</td>\n",
       "      <td>True</td>\n",
       "      <td>False</td>\n",
       "      <td>False</td>\n",
       "      <td>False</td>\n",
       "      <td>False</td>\n",
       "      <td>False</td>\n",
       "      <td>False</td>\n",
       "      <td>False</td>\n",
       "      <td>False</td>\n",
       "    </tr>\n",
       "    <tr>\n",
       "      <th>1999</th>\n",
       "      <td>T02000</td>\n",
       "      <td>C5662</td>\n",
       "      <td>0.288462</td>\n",
       "      <td>Beauty</td>\n",
       "      <td>2</td>\n",
       "      <td>0.298163</td>\n",
       "      <td>2023-08-29</td>\n",
       "      <td>UPI</td>\n",
       "      <td>0.121221</td>\n",
       "      <td>August</td>\n",
       "      <td>...</td>\n",
       "      <td>False</td>\n",
       "      <td>False</td>\n",
       "      <td>False</td>\n",
       "      <td>False</td>\n",
       "      <td>True</td>\n",
       "      <td>False</td>\n",
       "      <td>False</td>\n",
       "      <td>False</td>\n",
       "      <td>False</td>\n",
       "      <td>False</td>\n",
       "    </tr>\n",
       "  </tbody>\n",
       "</table>\n",
       "<p>2000 rows × 28 columns</p>\n",
       "</div>"
      ],
      "text/plain": [
       "     TransactionID CustomerID       Age ProductCategory  Quantity     Price  \\\n",
       "0           T00001      C2824  0.288462         Fashion         3  0.893673   \n",
       "1           T00002      C1409  0.038462           Books         5  0.194082   \n",
       "2           T00003      C5506  0.557692       Furniture         1  0.002245   \n",
       "3           T00004      C5012  0.057692       Groceries         5  0.580816   \n",
       "4           T00005      C4657  0.442308          Sports         1  0.616939   \n",
       "...            ...        ...       ...             ...       ...       ...   \n",
       "1995        T01996      C1151  0.500000         Fashion         2  0.476735   \n",
       "1996        T01997      C5888  0.673077          Beauty         3  0.539592   \n",
       "1997        T01998      C2758  0.519231     Electronics         1  0.642041   \n",
       "1998        T01999      C6489  0.480769          Sports         2  0.532449   \n",
       "1999        T02000      C5662  0.288462          Beauty         2  0.298163   \n",
       "\n",
       "     PurchaseDate PaymentMode  TotalAmount      Month  ... City_Ahmedabad  \\\n",
       "0      2023-03-15        Cash     0.536495      March  ...          False   \n",
       "1      2023-01-22        Card     0.207094    January  ...          False   \n",
       "2      2023-04-18      Wallet     0.000000      April  ...          False   \n",
       "3      2023-08-09        Cash     0.588550     August  ...          False   \n",
       "4      2023-09-23      Wallet     0.121261  September  ...          False   \n",
       "...           ...         ...          ...        ...  ...            ...   \n",
       "1995   2023-01-15      Wallet     0.191674    January  ...          False   \n",
       "1996   2023-01-14      Wallet     0.326946    January  ...           True   \n",
       "1997   2023-06-19      Wallet     0.126213       June  ...          False   \n",
       "1998   2023-01-15      Wallet     0.213656    January  ...          False   \n",
       "1999   2023-08-29         UPI     0.121221     August  ...          False   \n",
       "\n",
       "     City_Bengaluru  City_Chennai  City_Delhi  City_Hyderabad  City_Jaipur  \\\n",
       "0              True         False       False           False        False   \n",
       "1             False         False       False           False        False   \n",
       "2             False         False       False           False        False   \n",
       "3             False         False       False            True        False   \n",
       "4             False          True       False           False        False   \n",
       "...             ...           ...         ...             ...          ...   \n",
       "1995          False         False       False           False         True   \n",
       "1996          False         False       False           False        False   \n",
       "1997          False         False       False           False        False   \n",
       "1998           True         False       False           False        False   \n",
       "1999          False         False       False            True        False   \n",
       "\n",
       "      City_Kolkata  City_Lucknow  City_Mumbai  City_Pune  \n",
       "0            False         False        False      False  \n",
       "1            False         False        False       True  \n",
       "2            False         False        False       True  \n",
       "3            False         False        False      False  \n",
       "4            False         False        False      False  \n",
       "...            ...           ...          ...        ...  \n",
       "1995         False         False        False      False  \n",
       "1996         False         False        False      False  \n",
       "1997         False          True        False      False  \n",
       "1998         False         False        False      False  \n",
       "1999         False         False        False      False  \n",
       "\n",
       "[2000 rows x 28 columns]"
      ]
     },
     "execution_count": 127,
     "metadata": {},
     "output_type": "execute_result"
    }
   ],
   "source": [
    "# Encode categorical variables for analysis (e.g., Gender, City).\n",
    "categorical=[\"Gender\",\"City\"]\n",
    "df_encoded=pd.get_dummies(df,columns=categorical)\n",
    "df_encoded"
   ]
  },
  {
   "cell_type": "code",
   "execution_count": null,
   "id": "022a55fc",
   "metadata": {},
   "outputs": [],
   "source": [
    "#Normalize numerical columns (Age, Price, TotalAmount) if required.\n",
    "from sklearn.preprocessing import MinMaxScaler\n",
    "\n",
    "scaler = MinMaxScaler()\n",
    "df[[\"Age\", \"Price\", \"TotalAmount\"]] = scaler.fit_transform(df[[\"Age\", \"Price\", \"TotalAmount\"]])\n"
   ]
  },
  {
   "cell_type": "code",
   "execution_count": 129,
   "id": "7ad189be",
   "metadata": {},
   "outputs": [
    {
     "data": {
      "text/html": [
       "<div>\n",
       "<style scoped>\n",
       "    .dataframe tbody tr th:only-of-type {\n",
       "        vertical-align: middle;\n",
       "    }\n",
       "\n",
       "    .dataframe tbody tr th {\n",
       "        vertical-align: top;\n",
       "    }\n",
       "\n",
       "    .dataframe thead th {\n",
       "        text-align: right;\n",
       "    }\n",
       "</style>\n",
       "<table border=\"1\" class=\"dataframe\">\n",
       "  <thead>\n",
       "    <tr style=\"text-align: right;\">\n",
       "      <th></th>\n",
       "      <th>Age</th>\n",
       "      <th>Quantity</th>\n",
       "      <th>Price</th>\n",
       "      <th>PurchaseDate</th>\n",
       "      <th>TotalAmount</th>\n",
       "      <th>Gender_encode</th>\n",
       "      <th>City_encode</th>\n",
       "      <th>ProductCategory_encode</th>\n",
       "    </tr>\n",
       "  </thead>\n",
       "  <tbody>\n",
       "    <tr>\n",
       "      <th>count</th>\n",
       "      <td>2000.000000</td>\n",
       "      <td>2000.000000</td>\n",
       "      <td>2000.000000</td>\n",
       "      <td>2000</td>\n",
       "      <td>2000.000000</td>\n",
       "      <td>2000.000000</td>\n",
       "      <td>2000.000000</td>\n",
       "      <td>2000.000000</td>\n",
       "    </tr>\n",
       "    <tr>\n",
       "      <th>mean</th>\n",
       "      <td>0.513058</td>\n",
       "      <td>2.957000</td>\n",
       "      <td>0.489104</td>\n",
       "      <td>2023-07-02 18:48:14.400000</td>\n",
       "      <td>0.289722</td>\n",
       "      <td>0.999500</td>\n",
       "      <td>4.419000</td>\n",
       "      <td>2.934500</td>\n",
       "    </tr>\n",
       "    <tr>\n",
       "      <th>min</th>\n",
       "      <td>0.000000</td>\n",
       "      <td>1.000000</td>\n",
       "      <td>0.000000</td>\n",
       "      <td>2023-01-01 00:00:00</td>\n",
       "      <td>0.000000</td>\n",
       "      <td>0.000000</td>\n",
       "      <td>0.000000</td>\n",
       "      <td>0.000000</td>\n",
       "    </tr>\n",
       "    <tr>\n",
       "      <th>25%</th>\n",
       "      <td>0.269231</td>\n",
       "      <td>2.000000</td>\n",
       "      <td>0.232449</td>\n",
       "      <td>2023-04-06 18:00:00</td>\n",
       "      <td>0.106496</td>\n",
       "      <td>0.000000</td>\n",
       "      <td>2.000000</td>\n",
       "      <td>1.000000</td>\n",
       "    </tr>\n",
       "    <tr>\n",
       "      <th>50%</th>\n",
       "      <td>0.519231</td>\n",
       "      <td>3.000000</td>\n",
       "      <td>0.486020</td>\n",
       "      <td>2023-07-01 12:00:00</td>\n",
       "      <td>0.219473</td>\n",
       "      <td>1.000000</td>\n",
       "      <td>4.000000</td>\n",
       "      <td>3.000000</td>\n",
       "    </tr>\n",
       "    <tr>\n",
       "      <th>75%</th>\n",
       "      <td>0.769231</td>\n",
       "      <td>4.000000</td>\n",
       "      <td>0.733776</td>\n",
       "      <td>2023-09-26 00:00:00</td>\n",
       "      <td>0.428369</td>\n",
       "      <td>2.000000</td>\n",
       "      <td>7.000000</td>\n",
       "      <td>5.000000</td>\n",
       "    </tr>\n",
       "    <tr>\n",
       "      <th>max</th>\n",
       "      <td>1.000000</td>\n",
       "      <td>5.000000</td>\n",
       "      <td>1.000000</td>\n",
       "      <td>2024-01-01 00:00:00</td>\n",
       "      <td>1.000000</td>\n",
       "      <td>2.000000</td>\n",
       "      <td>9.000000</td>\n",
       "      <td>6.000000</td>\n",
       "    </tr>\n",
       "    <tr>\n",
       "      <th>std</th>\n",
       "      <td>0.291919</td>\n",
       "      <td>1.412143</td>\n",
       "      <td>0.288562</td>\n",
       "      <td>NaN</td>\n",
       "      <td>0.229682</td>\n",
       "      <td>0.814759</td>\n",
       "      <td>2.899421</td>\n",
       "      <td>2.000303</td>\n",
       "    </tr>\n",
       "  </tbody>\n",
       "</table>\n",
       "</div>"
      ],
      "text/plain": [
       "               Age     Quantity        Price                PurchaseDate  \\\n",
       "count  2000.000000  2000.000000  2000.000000                        2000   \n",
       "mean      0.513058     2.957000     0.489104  2023-07-02 18:48:14.400000   \n",
       "min       0.000000     1.000000     0.000000         2023-01-01 00:00:00   \n",
       "25%       0.269231     2.000000     0.232449         2023-04-06 18:00:00   \n",
       "50%       0.519231     3.000000     0.486020         2023-07-01 12:00:00   \n",
       "75%       0.769231     4.000000     0.733776         2023-09-26 00:00:00   \n",
       "max       1.000000     5.000000     1.000000         2024-01-01 00:00:00   \n",
       "std       0.291919     1.412143     0.288562                         NaN   \n",
       "\n",
       "       TotalAmount  Gender_encode  City_encode  ProductCategory_encode  \n",
       "count  2000.000000    2000.000000  2000.000000             2000.000000  \n",
       "mean      0.289722       0.999500     4.419000                2.934500  \n",
       "min       0.000000       0.000000     0.000000                0.000000  \n",
       "25%       0.106496       0.000000     2.000000                1.000000  \n",
       "50%       0.219473       1.000000     4.000000                3.000000  \n",
       "75%       0.428369       2.000000     7.000000                5.000000  \n",
       "max       1.000000       2.000000     9.000000                6.000000  \n",
       "std       0.229682       0.814759     2.899421                2.000303  "
      ]
     },
     "execution_count": 129,
     "metadata": {},
     "output_type": "execute_result"
    }
   ],
   "source": [
    "df.describe()"
   ]
  },
  {
   "cell_type": "code",
   "execution_count": null,
   "id": "684579da",
   "metadata": {},
   "outputs": [],
   "source": [
    "# Save the cleaned dataset as Retail_Cleaned.csv.\n",
    "df.to_csv(\"Retail_Cleaned.csv\", index=False)"
   ]
  },
  {
   "cell_type": "markdown",
   "id": "1d8edd70",
   "metadata": {},
   "source": [
    "Part B: Data Visualization Tasks"
   ]
  },
  {
   "cell_type": "markdown",
   "id": "7d384df1",
   "metadata": {},
   "source": [
    "Customer Demographics"
   ]
  },
  {
   "cell_type": "code",
   "execution_count": 131,
   "id": "5a427dfa",
   "metadata": {},
   "outputs": [
    {
     "data": {
      "image/png": "[encoded data removed]",
      "text/plain": [
       "<Figure size 800x500 with 1 Axes>"
      ]
     },
     "metadata": {},
     "output_type": "display_data"
    }
   ],
   "source": [
    "#age distribution\n",
    "import matplotlib.pyplot as plt\n",
    "plt.figure(figsize=(8,5))\n",
    "plt.hist(df[\"Age\"],bins=5,edgecolor=\"red\")\n",
    "plt.title(\"Age Distribution of Customers\")\n",
    "plt.xlabel(\"Age\")\n",
    "plt.ylabel(\"Number of Customers\")\n",
    "plt.show()"
   ]
  },
  {
   "cell_type": "code",
   "execution_count": null,
   "id": "4c955977",
   "metadata": {},
   "outputs": [
    {
     "data": {
      "image/png": "[encoded data removed]",
      "text/plain": [
       "<Figure size 600x400 with 1 Axes>"
      ]
     },
     "metadata": {},
     "output_type": "display_data"
    }
   ],
   "source": [
    "# Gender distribution.\n",
    "plt.figure(figsize=(6,4))\n",
    "df[\"Gender\"].value_counts().plot(kind=\"bar\",color=\"red\",edgecolor=\"black\")\n",
    "plt.title(\"Gender Distribution of Customers\")\n",
    "plt.xlabel(\"Gender\")\n",
    "plt.ylabel(\"Number of Customers\")\n",
    "plt.show()"
   ]
  },
  {
   "cell_type": "code",
   "execution_count": null,
   "id": "87018490",
   "metadata": {},
   "outputs": [
    {
     "data": {
      "image/png": "[encoded data removed]",
      "text/plain": [
       "<Figure size 1000x600 with 1 Axes>"
      ]
     },
     "metadata": {},
     "output_type": "display_data"
    }
   ],
   "source": [
    "#Customers by city (Top 10 cities)\n",
    "plt.figure(figsize=(10,6))\n",
    "df[\"City\"].value_counts().head(10).plot(kind=\"bar\", color=\"lightgreen\", edgecolor=\"black\")\n",
    "plt.title(\"Top 10 Cities by Number of Customers\")\n",
    "plt.xlabel(\"City\")\n",
    "plt.ylabel(\"Number of Customers\")\n",
    "plt.xticks(rotation=45)\n",
    "plt.show()\n"
   ]
  },
  {
   "cell_type": "markdown",
   "id": "ce743da7",
   "metadata": {},
   "source": [
    "sales Insights"
   ]
  },
  {
   "cell_type": "code",
   "execution_count": 135,
   "id": "85221c35",
   "metadata": {},
   "outputs": [],
   "source": [
    "total_sales=df.groupby(\"ProductCategory\")[\"TotalAmount\"].sum().sort_values(ascending=False)"
   ]
  },
  {
   "cell_type": "code",
   "execution_count": null,
   "id": "6fa54740",
   "metadata": {},
   "outputs": [
    {
     "data": {
      "image/png": "[encoded data removed]",
      "text/plain": [
       "<Figure size 800x500 with 1 Axes>"
      ]
     },
     "metadata": {},
     "output_type": "display_data"
    }
   ],
   "source": [
    "# Total sales by product category.\n",
    "plt.figure(figsize=(8,5))\n",
    "total_sales.plot(kind=\"bar\", color=\"skyblue\")\n",
    "plt.title(\"Total Sales by Product Category\")\n",
    "plt.ylabel(\"Total Sales\")\n",
    "plt.xticks(rotation=45)\n",
    "plt.show()"
   ]
  },
  {
   "cell_type": "code",
   "execution_count": 156,
   "id": "d2fa13bb",
   "metadata": {},
   "outputs": [
    {
     "data": {
      "image/png": "[encoded data removed]",
      "text/plain": [
       "<Figure size 700x500 with 1 Axes>"
      ]
     },
     "metadata": {},
     "output_type": "display_data"
    }
   ],
   "source": [
    "# Ensure months are in correct calendar order\n",
    "monthly_sales = df.groupby(\"Month\")[\"TotalAmount\"].sum()\n",
    "month_order = [\"January\", \"February\", \"March\", \"April\", \"May\", \"June\", \n",
    "               \"July\", \"August\", \"September\", \"October\", \"November\", \"December\"]\n",
    "monthly_sales = monthly_sales.reindex(month_order)\n",
    "\n",
    "# Plot\n",
    "plt.figure(figsize=(7,5))\n",
    "monthly_sales.plot(kind=\"line\", marker=\"o\")\n",
    "plt.title(\"Monthly Sales Trend\")\n",
    "plt.ylabel(\"Total Sales\")\n",
    "plt.xlabel(\"Month\")\n",
    "plt.grid(True)\n",
    "plt.show()"
   ]
  },
  {
   "cell_type": "code",
   "execution_count": null,
   "id": "deafe0c2",
   "metadata": {},
   "outputs": [
    {
     "data": {
      "text/plain": [
       "([<matplotlib.patches.Wedge at 0x24994464690>,\n",
       "  <matplotlib.patches.Wedge at 0x24994466490>,\n",
       "  <matplotlib.patches.Wedge at 0x24994466850>,\n",
       "  <matplotlib.patches.Wedge at 0x24994466210>],\n",
       " [Text(0.7530018365311428, 0.8018654713733011, 'Card'),\n",
       "  Text(-0.846462229977915, 0.7024967567333075, 'Wallet'),\n",
       "  Text(-0.6985002152345995, -0.8497631724882048, 'UPI'),\n",
       "  Text(0.8054050564167433, -0.7492147189546816, 'Cash')],\n",
       " [Text(0.41072827447153243, 0.4373811662036187, '26.00%'),\n",
       "  Text(-0.4617066708970444, 0.38318004912725856, '25.95%'),\n",
       "  Text(-0.38100011740069056, -0.4635071849935662, '24.20%'),\n",
       "  Text(0.4393118489545872, -0.4086625739752809, '23.85%')])"
      ]
     },
     "execution_count": 146,
     "metadata": {},
     "output_type": "execute_result"
    },
    {
     "data": {
      "image/png": "[encoded data removed]",
      "text/plain": [
       "<Figure size 640x480 with 1 Axes>"
      ]
     },
     "metadata": {},
     "output_type": "display_data"
    }
   ],
   "source": [
    "# Payment mode usage (pie chart).\n",
    "payment=df[\"PaymentMode\"].value_counts()\n",
    "plt.pie(payment.values,labels=payment.index,autopct=\"%.2f%%\",colors=[\"lightblue\",\"pink\",\"lightyellow\",\"lightgreen\"])"
   ]
  },
  {
   "cell_type": "markdown",
   "id": "c520dcdb",
   "metadata": {},
   "source": [
    "Advanced Insights"
   ]
  },
  {
   "cell_type": "code",
   "execution_count": 150,
   "id": "b9b307d1",
   "metadata": {},
   "outputs": [
    {
     "name": "stderr",
     "output_type": "stream",
     "text": [
      "C:\\Users\\yuvas\\AppData\\Local\\Temp\\ipykernel_12748\\2691361272.py:2: FutureWarning: The default of observed=False is deprecated and will be changed to True in a future version of pandas. Pass observed=False to retain current behavior or observed=True to adopt the future default and silence this warning.\n",
      "  avg=df.groupby(\"AgeGroup\")[\"TotalAmount\"].mean()\n"
     ]
    },
    {
     "data": {
      "text/plain": [
       "AgeGroup\n",
       "18-25    0.304555\n",
       "26-40    0.291112\n",
       "41-60    0.286696\n",
       "60+      0.283369\n",
       "Name: TotalAmount, dtype: float64"
      ]
     },
     "execution_count": 150,
     "metadata": {},
     "output_type": "execute_result"
    }
   ],
   "source": [
    "#Average spend per customer by age group.\n",
    "avg=df.groupby(\"AgeGroup\")[\"TotalAmount\"].mean()\n",
    "avg"
   ]
  },
  {
   "cell_type": "code",
   "execution_count": null,
   "id": "19c9a6a7",
   "metadata": {},
   "outputs": [
    {
     "data": {
      "image/png": "[encoded data removed]",
      "text/plain": [
       "<Figure size 640x480 with 1 Axes>"
      ]
     },
     "metadata": {},
     "output_type": "display_data"
    }
   ],
   "source": [
    "#City-wise revenue contribution (bar chart).\n",
    "city_revenue=df.groupby(\"City\")[\"TotalAmount\"].sum().sort_values(ascending=False)\n",
    "plt.Figure(figsize=(10,6))\n",
    "city_revenue.plot(kind=\"bar\",color=\"green\",edgecolor=\"black\")\n",
    "plt.title(\"City-wise Revenue Contribution\")\n",
    "plt.xlabel(\"City\")\n",
    "plt.ylabel(\"Total Revenue\")\n",
    "plt.show()"
   ]
  },
  {
   "cell_type": "code",
   "execution_count": 151,
   "id": "d9aa981f",
   "metadata": {},
   "outputs": [
    {
     "data": {
      "image/png": "[encoded data removed]",
      "text/plain": [
       "<Figure size 1000x600 with 2 Axes>"
      ]
     },
     "metadata": {},
     "output_type": "display_data"
    }
   ],
   "source": [
    "# Heatmap of product category vs payment mode.\n",
    "heatmap_data = pd.crosstab(df[\"ProductCategory\"], df[\"PaymentMode\"], values=df[\"TotalAmount\"], aggfunc=\"sum\").fillna(0)\n",
    "\n",
    "plt.figure(figsize=(10,6))\n",
    "sns.heatmap(heatmap_data, annot=True, fmt=\".0f\", cmap=\"YlGnBu\")\n",
    "plt.title(\"Heatmap of Product Category vs Payment Mode (Total Sales ₹)\")\n",
    "plt.ylabel(\"Product Category\")\n",
    "plt.xlabel(\"Payment Mode\")\n",
    "plt.show()\n"
   ]
  }
 ],
 "metadata": {
  "kernelspec": {
   "display_name": "Python 3",
   "language": "python",
   "name": "python3"
  },
  "language_info": {
   "codemirror_mode": {
    "name": "ipython",
    "version": 3
   },
   "file_extension": ".py",
   "mimetype": "text/x-python",
   "name": "python",
   "nbconvert_exporter": "python",
   "pygments_lexer": "ipython3",
   "version": "3.13.0"
  }
 },
 "nbformat": 4,
 "nbformat_minor": 5
}
